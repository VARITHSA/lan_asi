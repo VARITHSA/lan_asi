{
 "cells": [
  {
   "cell_type": "code",
   "execution_count": 2,
   "id": "f6c08952-e199-4d3e-8c0f-474d2fb4b7b0",
   "metadata": {},
   "outputs": [],
   "source": [
    "import heapq"
   ]
  },
  {
   "cell_type": "code",
   "execution_count": 16,
   "id": "35102104-09a3-4f66-8ee0-1352d3ca3cc8",
   "metadata": {},
   "outputs": [],
   "source": [
    "class Node:\n",
    "    def __init__(self,state,parent,cost,heuristic):\n",
    "        self.state = state\n",
    "        self.parent = parent\n",
    "        self.cost = cost\n",
    "        self.heuristic = heuristic\n",
    "        self.total_cost = cost + heuristic\n",
    "    def __lt__(self, other):\n",
    "        return self.total_cost<other.total_cost\n",
    "\n",
    "def a_star(start_state,goal_state,trans_func,heuristic):\n",
    "    open_list = []\n",
    "    closed_list = set()\n",
    "    start_node = Node(start_state,None,0,heuristic(start_state))\n",
    "    heapq.heappush(open_list,start_node)\n",
    "    while open_list:\n",
    "        curr_node = heapq.heappop(open_list)\n",
    "        if curr_node.state == goal_state:\n",
    "            path = []\n",
    "            while curr_node.parent is not None:\n",
    "                path.append(curr_node.state)\n",
    "                curr_node = curr_node.parent\n",
    "            path.append(start_state)\n",
    "            path.reverse()\n",
    "            return path\n",
    "        closed_list.add(curr_node.state)\n",
    "        for next_state in trans_func(curr_node.state):\n",
    "            if next_state not in closed_list:\n",
    "                next_node = Node(next_state, curr_node,curr_node.cost+1,heuristic(next_state))\n",
    "                heapq.heappush(open_list,next_node)\n",
    "    return None\n",
    " \n"
   ]
  },
  {
   "cell_type": "code",
   "execution_count": 18,
   "id": "0cede009-aac5-4465-b1c5-130bd68bae29",
   "metadata": {},
   "outputs": [
    {
     "name": "stdout",
     "output_type": "stream",
     "text": [
      "['A', 'C', 'F']\n"
     ]
    }
   ],
   "source": [
    "def transition_function(state):\n",
    "    transitions = {\n",
    "        'A': ['B', 'C'],\n",
    "        'B': ['A', 'D', 'E'],\n",
    "        'C': ['A', 'F'],\n",
    "        'D': ['B'],\n",
    "        'E': ['B', 'F'],\n",
    "        'F': ['C', 'E']\n",
    "    }\n",
    "    return transitions.get(state, [])\n",
    "\n",
    "def heuristic_function(state):\n",
    "    heuristics = {\n",
    "        'A': 6,\n",
    "        'B': 3,\n",
    "        'C': 4,\n",
    "        'D': 5,\n",
    "        'E': 3,\n",
    "        'F': 0\n",
    "    }\n",
    "    return heuristics.get(state, float('inf'))\n",
    "\n",
    "start_state = 'A'\n",
    "goal_state = 'F'\n",
    "\n",
    "path = a_star(start_state, goal_state, transition_function, heuristic_function)\n",
    "print(path)"
   ]
  },
  {
   "cell_type": "code",
   "execution_count": null,
   "id": "50b9023a-4cff-4271-bb4b-a50503aa0faa",
   "metadata": {},
   "outputs": [],
   "source": []
  }
 ],
 "metadata": {
  "kernelspec": {
   "display_name": "Python 3 (ipykernel)",
   "language": "python",
   "name": "python3"
  },
  "language_info": {
   "codemirror_mode": {
    "name": "ipython",
    "version": 3
   },
   "file_extension": ".py",
   "mimetype": "text/x-python",
   "name": "python",
   "nbconvert_exporter": "python",
   "pygments_lexer": "ipython3",
   "version": "3.12.4"
  }
 },
 "nbformat": 4,
 "nbformat_minor": 5
}
