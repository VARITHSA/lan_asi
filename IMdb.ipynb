{
 "cells": [
  {
   "cell_type": "code",
   "execution_count": 46,
   "id": "34fce857-0c28-44c9-8a36-540ed3bc38b5",
   "metadata": {},
   "outputs": [],
   "source": [
    "import pandas as pd\n",
    "\n",
    "df = pd.read_csv('OneDrive/Desktop/IMDB-Movie-Data.csv')\n",
    "res= df.groupby('Genre')['Rating'].mean()"
   ]
  },
  {
   "cell_type": "code",
   "execution_count": 48,
   "id": "d197f3a1-d6fc-4bef-a060-cd311ec99640",
   "metadata": {},
   "outputs": [
    {
     "data": {
      "text/plain": [
       "Genre\n",
       "Action                        6.150000\n",
       "Action,Adventure              6.400000\n",
       "Action,Adventure,Biography    7.000000\n",
       "Action,Adventure,Comedy       6.592857\n",
       "Action,Adventure,Crime        6.433333\n",
       "                                ...   \n",
       "Romance,Sci-Fi,Thriller       7.100000\n",
       "Sci-Fi                        4.950000\n",
       "Sci-Fi,Thriller               5.000000\n",
       "Thriller                      5.955556\n",
       "Thriller,War                  6.000000\n",
       "Name: Rating, Length: 207, dtype: float64"
      ]
     },
     "execution_count": 48,
     "metadata": {},
     "output_type": "execute_result"
    }
   ],
   "source": [
    "res\n"
   ]
  },
  {
   "cell_type": "code",
   "execution_count": 50,
   "id": "e79dcd8d-0cb5-4ed6-9f8d-0664a0deb4d2",
   "metadata": {},
   "outputs": [],
   "source": [
    "import plotly.express as plt\n"
   ]
  },
  {
   "cell_type": "code",
   "execution_count": 54,
   "id": "5cf0ae9e-0a1c-4695-9cee-ae337da78b11",
   "metadata": {},
   "outputs": [
    {
     "data": {
      "application/vnd.plotly.v1+json": {
       "config": {
        "plotlyServerURL": "https://plot.ly"
       },
       "data": [
        {
         "alignmentgroup": "True",
         "hovertemplate": "Genre=%{x}<br>y=%{y}<extra></extra>",
         "legendgroup": "",
         "marker": {
          "color": "#636efa",
          "pattern": {
           "shape": ""
          }
         },
         "name": "",
         "offsetgroup": "",
         "orientation": "v",
         "showlegend": false,
         "textposition": "auto",
         "type": "bar",
         "x": [
          "Action",
          "Action,Adventure",
          "Action,Adventure,Biography",
          "Action,Adventure,Comedy",
          "Action,Adventure,Crime",
          "Action,Adventure,Drama",
          "Action,Adventure,Family",
          "Action,Adventure,Fantasy",
          "Action,Adventure,Horror",
          "Action,Adventure,Mystery",
          "Action,Adventure,Romance",
          "Action,Adventure,Sci-Fi",
          "Action,Adventure,Thriller",
          "Action,Adventure,Western",
          "Action,Biography,Crime",
          "Action,Biography,Drama",
          "Action,Comedy",
          "Action,Comedy,Crime",
          "Action,Comedy,Drama",
          "Action,Comedy,Family",
          "Action,Comedy,Fantasy",
          "Action,Comedy,Horror",
          "Action,Comedy,Mystery",
          "Action,Comedy,Romance",
          "Action,Comedy,Sci-Fi",
          "Action,Comedy,Sport",
          "Action,Crime,Drama",
          "Action,Crime,Fantasy",
          "Action,Crime,Mystery",
          "Action,Crime,Sci-Fi",
          "Action,Crime,Sport",
          "Action,Crime,Thriller",
          "Action,Drama,Family",
          "Action,Drama,Fantasy",
          "Action,Drama,History",
          "Action,Drama,Horror",
          "Action,Drama,Mystery",
          "Action,Drama,Romance",
          "Action,Drama,Sci-Fi",
          "Action,Drama,Sport",
          "Action,Drama,Thriller",
          "Action,Drama,War",
          "Action,Fantasy",
          "Action,Fantasy,Horror",
          "Action,Fantasy,Thriller",
          "Action,Fantasy,War",
          "Action,Horror",
          "Action,Horror,Mystery",
          "Action,Horror,Romance",
          "Action,Horror,Sci-Fi",
          "Action,Horror,Thriller",
          "Action,Mystery,Sci-Fi",
          "Action,Mystery,Thriller",
          "Action,Sci-Fi",
          "Action,Sci-Fi,Thriller",
          "Action,Thriller",
          "Action,Thriller,War",
          "Adventure",
          "Adventure,Biography",
          "Adventure,Biography,Crime",
          "Adventure,Biography,Drama",
          "Adventure,Comedy",
          "Adventure,Comedy,Drama",
          "Adventure,Comedy,Family",
          "Adventure,Comedy,Fantasy",
          "Adventure,Comedy,Horror",
          "Adventure,Comedy,Romance",
          "Adventure,Comedy,Sci-Fi",
          "Adventure,Crime,Mystery",
          "Adventure,Drama",
          "Adventure,Drama,Family",
          "Adventure,Drama,Fantasy",
          "Adventure,Drama,History",
          "Adventure,Drama,Horror",
          "Adventure,Drama,Romance",
          "Adventure,Drama,Sci-Fi",
          "Adventure,Drama,Thriller",
          "Adventure,Drama,War",
          "Adventure,Drama,Western",
          "Adventure,Family",
          "Adventure,Family,Fantasy",
          "Adventure,Fantasy",
          "Adventure,Fantasy,Mystery",
          "Adventure,Horror",
          "Adventure,Horror,Mystery",
          "Adventure,Mystery,Sci-Fi",
          "Adventure,Sci-Fi,Thriller",
          "Animation,Action,Adventure",
          "Animation,Action,Comedy",
          "Animation,Adventure,Comedy",
          "Animation,Adventure,Family",
          "Animation,Comedy,Drama",
          "Animation,Comedy,Family",
          "Animation,Drama,Fantasy",
          "Animation,Drama,Romance",
          "Animation,Family,Fantasy",
          "Animation,Fantasy",
          "Biography,Comedy,Crime",
          "Biography,Comedy,Drama",
          "Biography,Crime,Drama",
          "Biography,Drama",
          "Biography,Drama,Family",
          "Biography,Drama,History",
          "Biography,Drama,Mystery",
          "Biography,Drama,Romance",
          "Biography,Drama,Sport",
          "Biography,Drama,Thriller",
          "Biography,History,Thriller",
          "Comedy",
          "Comedy,Crime",
          "Comedy,Crime,Drama",
          "Comedy,Crime,Thriller",
          "Comedy,Drama",
          "Comedy,Drama,Family",
          "Comedy,Drama,Fantasy",
          "Comedy,Drama,Horror",
          "Comedy,Drama,Music",
          "Comedy,Drama,Musical",
          "Comedy,Drama,Romance",
          "Comedy,Drama,Thriller",
          "Comedy,Family",
          "Comedy,Family,Fantasy",
          "Comedy,Family,Musical",
          "Comedy,Family,Romance",
          "Comedy,Fantasy",
          "Comedy,Fantasy,Horror",
          "Comedy,Fantasy,Romance",
          "Comedy,Horror",
          "Comedy,Horror,Romance",
          "Comedy,Horror,Sci-Fi",
          "Comedy,Horror,Thriller",
          "Comedy,Music",
          "Comedy,Music,Romance",
          "Comedy,Mystery",
          "Comedy,Romance",
          "Comedy,Romance,Sport",
          "Comedy,Romance,Western",
          "Comedy,Sci-Fi",
          "Comedy,Western",
          "Crime,Drama",
          "Crime,Drama,Fantasy",
          "Crime,Drama,History",
          "Crime,Drama,Horror",
          "Crime,Drama,Music",
          "Crime,Drama,Mystery",
          "Crime,Drama,Thriller",
          "Crime,Horror,Thriller",
          "Crime,Mystery,Thriller",
          "Crime,Thriller",
          "Drama",
          "Drama,Family",
          "Drama,Family,Fantasy",
          "Drama,Family,Music",
          "Drama,Fantasy",
          "Drama,Fantasy,Horror",
          "Drama,Fantasy,Music",
          "Drama,Fantasy,Musical",
          "Drama,Fantasy,Mystery",
          "Drama,Fantasy,Romance",
          "Drama,Fantasy,Thriller",
          "Drama,Fantasy,War",
          "Drama,History",
          "Drama,History,Thriller",
          "Drama,History,War",
          "Drama,Horror",
          "Drama,Horror,Musical",
          "Drama,Horror,Mystery",
          "Drama,Horror,Sci-Fi",
          "Drama,Horror,Thriller",
          "Drama,Music",
          "Drama,Music,Romance",
          "Drama,Musical,Romance",
          "Drama,Mystery,Romance",
          "Drama,Mystery,Sci-Fi",
          "Drama,Mystery,Thriller",
          "Drama,Mystery,War",
          "Drama,Romance",
          "Drama,Romance,Sci-Fi",
          "Drama,Romance,Thriller",
          "Drama,Romance,War",
          "Drama,Sci-Fi",
          "Drama,Sci-Fi,Thriller",
          "Drama,Sport",
          "Drama,Thriller",
          "Drama,Thriller,War",
          "Drama,War",
          "Drama,Western",
          "Fantasy,Horror",
          "Fantasy,Horror,Thriller",
          "Fantasy,Mystery,Thriller",
          "Horror",
          "Horror,Mystery",
          "Horror,Mystery,Sci-Fi",
          "Horror,Mystery,Thriller",
          "Horror,Sci-Fi,Thriller",
          "Horror,Thriller",
          "Mystery,Romance,Sci-Fi",
          "Mystery,Romance,Thriller",
          "Mystery,Sci-Fi,Thriller",
          "Mystery,Thriller",
          "Mystery,Thriller,Western",
          "Romance,Sci-Fi",
          "Romance,Sci-Fi,Thriller",
          "Sci-Fi",
          "Sci-Fi,Thriller",
          "Thriller",
          "Thriller,War"
         ],
         "xaxis": "x",
         "y": [
          6.15,
          6.3999999999999995,
          7,
          6.5928571428571425,
          6.433333333333334,
          6.544444444444444,
          5.575,
          6.32962962962963,
          6.45,
          6.659999999999999,
          5.85,
          6.724,
          7.027272727272727,
          6.7,
          7.1,
          7.1125,
          6.366666666666667,
          6.825,
          6.4,
          5.6,
          6.133333333333333,
          6.699999999999999,
          7.9,
          6.3,
          7,
          6.6,
          6.764705882352941,
          6.7,
          6.7,
          6.2,
          5.3,
          6.6000000000000005,
          6.65,
          6.166666666666667,
          6,
          7.5,
          6.699999999999999,
          7.1,
          6.8,
          7.3999999999999995,
          6.757142857142857,
          7.6,
          6.1,
          5.833333333333333,
          5.2,
          7.7,
          5.3,
          6.8,
          5.8,
          5.74,
          5.8,
          6.533333333333334,
          7.2,
          7.3,
          6.742857142857143,
          6.577777777777778,
          7.1,
          6.1,
          6.7,
          7.3,
          7.5249999999999995,
          5.85,
          7.4125,
          6.25,
          5.6,
          7.7,
          6.15,
          6.8,
          6.6,
          7.3,
          7.225,
          6.1499999999999995,
          7.3,
          7.1,
          6.8,
          8.3,
          7.566666666666666,
          8.3,
          7.6,
          6.8,
          6.7,
          7.733333333333334,
          6.8,
          5.300000000000001,
          6.6,
          6.85,
          6.933333333333334,
          7.2555555555555555,
          7.3,
          7.2,
          8.15,
          7.8,
          7.1,
          8.6,
          8.4,
          7.7,
          7.6,
          8.2,
          7.457142857142857,
          7.066666666666666,
          7.414285714285714,
          7,
          7.207142857142857,
          7.8,
          7.279999999999999,
          7.2625,
          7.733333333333333,
          7.2,
          6.03125,
          6.68,
          7.028571428571429,
          6.3,
          7.114814814814815,
          6.133333333333333,
          7.35,
          6.2,
          7.040000000000001,
          5.9,
          6.651428571428572,
          8.1,
          6.3,
          5.3,
          6.4,
          6,
          6.8,
          6.033333333333334,
          7.7,
          5.65,
          6.9,
          6.5,
          5.85,
          6.6,
          7.2,
          6.3,
          6.1461538461538465,
          6.4,
          6.1,
          6,
          4.8,
          6.4,
          7.5,
          7.9,
          6.633333333333333,
          6.5,
          6.808695652173912,
          6.858333333333333,
          6.575,
          7.6,
          6.9,
          6.935416666666666,
          8.1,
          7,
          8.5,
          7.15,
          6.6000000000000005,
          6.8,
          7.4,
          5.6,
          6.859999999999999,
          6.7,
          8.2,
          7,
          7.5,
          7.5,
          6.58,
          7.4,
          7.0249999999999995,
          6.416666666666667,
          5.233333333333333,
          7.8,
          6.2,
          7.6,
          7.383333333333333,
          7.716666666666666,
          6.9375,
          8.2,
          6.983870967741935,
          6.975,
          5.966666666666666,
          6.9,
          7.4,
          6.975,
          7,
          7.0600000000000005,
          7.3,
          6.933333333333334,
          8.4,
          6.65,
          3.2,
          6.9,
          5.445454545454545,
          6.55,
          5.8,
          6.477777777777778,
          5.433333333333334,
          5.64375,
          7.5,
          6.3,
          7.233333333333333,
          6.685714285714285,
          7.1,
          6.1,
          7.1,
          4.95,
          5,
          5.955555555555556,
          6
         ],
         "yaxis": "y"
        }
       ],
       "layout": {
        "autosize": true,
        "barmode": "relative",
        "legend": {
         "tracegroupgap": 0
        },
        "margin": {
         "t": 60
        },
        "template": {
         "data": {
          "bar": [
           {
            "error_x": {
             "color": "#2a3f5f"
            },
            "error_y": {
             "color": "#2a3f5f"
            },
            "marker": {
             "line": {
              "color": "#E5ECF6",
              "width": 0.5
             },
             "pattern": {
              "fillmode": "overlay",
              "size": 10,
              "solidity": 0.2
             }
            },
            "type": "bar"
           }
          ],
          "barpolar": [
           {
            "marker": {
             "line": {
              "color": "#E5ECF6",
              "width": 0.5
             },
             "pattern": {
              "fillmode": "overlay",
              "size": 10,
              "solidity": 0.2
             }
            },
            "type": "barpolar"
           }
          ],
          "carpet": [
           {
            "aaxis": {
             "endlinecolor": "#2a3f5f",
             "gridcolor": "white",
             "linecolor": "white",
             "minorgridcolor": "white",
             "startlinecolor": "#2a3f5f"
            },
            "baxis": {
             "endlinecolor": "#2a3f5f",
             "gridcolor": "white",
             "linecolor": "white",
             "minorgridcolor": "white",
             "startlinecolor": "#2a3f5f"
            },
            "type": "carpet"
           }
          ],
          "choropleth": [
           {
            "colorbar": {
             "outlinewidth": 0,
             "ticks": ""
            },
            "type": "choropleth"
           }
          ],
          "contour": [
           {
            "colorbar": {
             "outlinewidth": 0,
             "ticks": ""
            },
            "colorscale": [
             [
              0,
              "#0d0887"
             ],
             [
              0.1111111111111111,
              "#46039f"
             ],
             [
              0.2222222222222222,
              "#7201a8"
             ],
             [
              0.3333333333333333,
              "#9c179e"
             ],
             [
              0.4444444444444444,
              "#bd3786"
             ],
             [
              0.5555555555555556,
              "#d8576b"
             ],
             [
              0.6666666666666666,
              "#ed7953"
             ],
             [
              0.7777777777777778,
              "#fb9f3a"
             ],
             [
              0.8888888888888888,
              "#fdca26"
             ],
             [
              1,
              "#f0f921"
             ]
            ],
            "type": "contour"
           }
          ],
          "contourcarpet": [
           {
            "colorbar": {
             "outlinewidth": 0,
             "ticks": ""
            },
            "type": "contourcarpet"
           }
          ],
          "heatmap": [
           {
            "colorbar": {
             "outlinewidth": 0,
             "ticks": ""
            },
            "colorscale": [
             [
              0,
              "#0d0887"
             ],
             [
              0.1111111111111111,
              "#46039f"
             ],
             [
              0.2222222222222222,
              "#7201a8"
             ],
             [
              0.3333333333333333,
              "#9c179e"
             ],
             [
              0.4444444444444444,
              "#bd3786"
             ],
             [
              0.5555555555555556,
              "#d8576b"
             ],
             [
              0.6666666666666666,
              "#ed7953"
             ],
             [
              0.7777777777777778,
              "#fb9f3a"
             ],
             [
              0.8888888888888888,
              "#fdca26"
             ],
             [
              1,
              "#f0f921"
             ]
            ],
            "type": "heatmap"
           }
          ],
          "heatmapgl": [
           {
            "colorbar": {
             "outlinewidth": 0,
             "ticks": ""
            },
            "colorscale": [
             [
              0,
              "#0d0887"
             ],
             [
              0.1111111111111111,
              "#46039f"
             ],
             [
              0.2222222222222222,
              "#7201a8"
             ],
             [
              0.3333333333333333,
              "#9c179e"
             ],
             [
              0.4444444444444444,
              "#bd3786"
             ],
             [
              0.5555555555555556,
              "#d8576b"
             ],
             [
              0.6666666666666666,
              "#ed7953"
             ],
             [
              0.7777777777777778,
              "#fb9f3a"
             ],
             [
              0.8888888888888888,
              "#fdca26"
             ],
             [
              1,
              "#f0f921"
             ]
            ],
            "type": "heatmapgl"
           }
          ],
          "histogram": [
           {
            "marker": {
             "pattern": {
              "fillmode": "overlay",
              "size": 10,
              "solidity": 0.2
             }
            },
            "type": "histogram"
           }
          ],
          "histogram2d": [
           {
            "colorbar": {
             "outlinewidth": 0,
             "ticks": ""
            },
            "colorscale": [
             [
              0,
              "#0d0887"
             ],
             [
              0.1111111111111111,
              "#46039f"
             ],
             [
              0.2222222222222222,
              "#7201a8"
             ],
             [
              0.3333333333333333,
              "#9c179e"
             ],
             [
              0.4444444444444444,
              "#bd3786"
             ],
             [
              0.5555555555555556,
              "#d8576b"
             ],
             [
              0.6666666666666666,
              "#ed7953"
             ],
             [
              0.7777777777777778,
              "#fb9f3a"
             ],
             [
              0.8888888888888888,
              "#fdca26"
             ],
             [
              1,
              "#f0f921"
             ]
            ],
            "type": "histogram2d"
           }
          ],
          "histogram2dcontour": [
           {
            "colorbar": {
             "outlinewidth": 0,
             "ticks": ""
            },
            "colorscale": [
             [
              0,
              "#0d0887"
             ],
             [
              0.1111111111111111,
              "#46039f"
             ],
             [
              0.2222222222222222,
              "#7201a8"
             ],
             [
              0.3333333333333333,
              "#9c179e"
             ],
             [
              0.4444444444444444,
              "#bd3786"
             ],
             [
              0.5555555555555556,
              "#d8576b"
             ],
             [
              0.6666666666666666,
              "#ed7953"
             ],
             [
              0.7777777777777778,
              "#fb9f3a"
             ],
             [
              0.8888888888888888,
              "#fdca26"
             ],
             [
              1,
              "#f0f921"
             ]
            ],
            "type": "histogram2dcontour"
           }
          ],
          "mesh3d": [
           {
            "colorbar": {
             "outlinewidth": 0,
             "ticks": ""
            },
            "type": "mesh3d"
           }
          ],
          "parcoords": [
           {
            "line": {
             "colorbar": {
              "outlinewidth": 0,
              "ticks": ""
             }
            },
            "type": "parcoords"
           }
          ],
          "pie": [
           {
            "automargin": true,
            "type": "pie"
           }
          ],
          "scatter": [
           {
            "fillpattern": {
             "fillmode": "overlay",
             "size": 10,
             "solidity": 0.2
            },
            "type": "scatter"
           }
          ],
          "scatter3d": [
           {
            "line": {
             "colorbar": {
              "outlinewidth": 0,
              "ticks": ""
             }
            },
            "marker": {
             "colorbar": {
              "outlinewidth": 0,
              "ticks": ""
             }
            },
            "type": "scatter3d"
           }
          ],
          "scattercarpet": [
           {
            "marker": {
             "colorbar": {
              "outlinewidth": 0,
              "ticks": ""
             }
            },
            "type": "scattercarpet"
           }
          ],
          "scattergeo": [
           {
            "marker": {
             "colorbar": {
              "outlinewidth": 0,
              "ticks": ""
             }
            },
            "type": "scattergeo"
           }
          ],
          "scattergl": [
           {
            "marker": {
             "colorbar": {
              "outlinewidth": 0,
              "ticks": ""
             }
            },
            "type": "scattergl"
           }
          ],
          "scattermapbox": [
           {
            "marker": {
             "colorbar": {
              "outlinewidth": 0,
              "ticks": ""
             }
            },
            "type": "scattermapbox"
           }
          ],
          "scatterpolar": [
           {
            "marker": {
             "colorbar": {
              "outlinewidth": 0,
              "ticks": ""
             }
            },
            "type": "scatterpolar"
           }
          ],
          "scatterpolargl": [
           {
            "marker": {
             "colorbar": {
              "outlinewidth": 0,
              "ticks": ""
             }
            },
            "type": "scatterpolargl"
           }
          ],
          "scatterternary": [
           {
            "marker": {
             "colorbar": {
              "outlinewidth": 0,
              "ticks": ""
             }
            },
            "type": "scatterternary"
           }
          ],
          "surface": [
           {
            "colorbar": {
             "outlinewidth": 0,
             "ticks": ""
            },
            "colorscale": [
             [
              0,
              "#0d0887"
             ],
             [
              0.1111111111111111,
              "#46039f"
             ],
             [
              0.2222222222222222,
              "#7201a8"
             ],
             [
              0.3333333333333333,
              "#9c179e"
             ],
             [
              0.4444444444444444,
              "#bd3786"
             ],
             [
              0.5555555555555556,
              "#d8576b"
             ],
             [
              0.6666666666666666,
              "#ed7953"
             ],
             [
              0.7777777777777778,
              "#fb9f3a"
             ],
             [
              0.8888888888888888,
              "#fdca26"
             ],
             [
              1,
              "#f0f921"
             ]
            ],
            "type": "surface"
           }
          ],
          "table": [
           {
            "cells": {
             "fill": {
              "color": "#EBF0F8"
             },
             "line": {
              "color": "white"
             }
            },
            "header": {
             "fill": {
              "color": "#C8D4E3"
             },
             "line": {
              "color": "white"
             }
            },
            "type": "table"
           }
          ]
         },
         "layout": {
          "annotationdefaults": {
           "arrowcolor": "#2a3f5f",
           "arrowhead": 0,
           "arrowwidth": 1
          },
          "autotypenumbers": "strict",
          "coloraxis": {
           "colorbar": {
            "outlinewidth": 0,
            "ticks": ""
           }
          },
          "colorscale": {
           "diverging": [
            [
             0,
             "#8e0152"
            ],
            [
             0.1,
             "#c51b7d"
            ],
            [
             0.2,
             "#de77ae"
            ],
            [
             0.3,
             "#f1b6da"
            ],
            [
             0.4,
             "#fde0ef"
            ],
            [
             0.5,
             "#f7f7f7"
            ],
            [
             0.6,
             "#e6f5d0"
            ],
            [
             0.7,
             "#b8e186"
            ],
            [
             0.8,
             "#7fbc41"
            ],
            [
             0.9,
             "#4d9221"
            ],
            [
             1,
             "#276419"
            ]
           ],
           "sequential": [
            [
             0,
             "#0d0887"
            ],
            [
             0.1111111111111111,
             "#46039f"
            ],
            [
             0.2222222222222222,
             "#7201a8"
            ],
            [
             0.3333333333333333,
             "#9c179e"
            ],
            [
             0.4444444444444444,
             "#bd3786"
            ],
            [
             0.5555555555555556,
             "#d8576b"
            ],
            [
             0.6666666666666666,
             "#ed7953"
            ],
            [
             0.7777777777777778,
             "#fb9f3a"
            ],
            [
             0.8888888888888888,
             "#fdca26"
            ],
            [
             1,
             "#f0f921"
            ]
           ],
           "sequentialminus": [
            [
             0,
             "#0d0887"
            ],
            [
             0.1111111111111111,
             "#46039f"
            ],
            [
             0.2222222222222222,
             "#7201a8"
            ],
            [
             0.3333333333333333,
             "#9c179e"
            ],
            [
             0.4444444444444444,
             "#bd3786"
            ],
            [
             0.5555555555555556,
             "#d8576b"
            ],
            [
             0.6666666666666666,
             "#ed7953"
            ],
            [
             0.7777777777777778,
             "#fb9f3a"
            ],
            [
             0.8888888888888888,
             "#fdca26"
            ],
            [
             1,
             "#f0f921"
            ]
           ]
          },
          "colorway": [
           "#636efa",
           "#EF553B",
           "#00cc96",
           "#ab63fa",
           "#FFA15A",
           "#19d3f3",
           "#FF6692",
           "#B6E880",
           "#FF97FF",
           "#FECB52"
          ],
          "font": {
           "color": "#2a3f5f"
          },
          "geo": {
           "bgcolor": "white",
           "lakecolor": "white",
           "landcolor": "#E5ECF6",
           "showlakes": true,
           "showland": true,
           "subunitcolor": "white"
          },
          "hoverlabel": {
           "align": "left"
          },
          "hovermode": "closest",
          "mapbox": {
           "style": "light"
          },
          "paper_bgcolor": "white",
          "plot_bgcolor": "#E5ECF6",
          "polar": {
           "angularaxis": {
            "gridcolor": "white",
            "linecolor": "white",
            "ticks": ""
           },
           "bgcolor": "#E5ECF6",
           "radialaxis": {
            "gridcolor": "white",
            "linecolor": "white",
            "ticks": ""
           }
          },
          "scene": {
           "xaxis": {
            "backgroundcolor": "#E5ECF6",
            "gridcolor": "white",
            "gridwidth": 2,
            "linecolor": "white",
            "showbackground": true,
            "ticks": "",
            "zerolinecolor": "white"
           },
           "yaxis": {
            "backgroundcolor": "#E5ECF6",
            "gridcolor": "white",
            "gridwidth": 2,
            "linecolor": "white",
            "showbackground": true,
            "ticks": "",
            "zerolinecolor": "white"
           },
           "zaxis": {
            "backgroundcolor": "#E5ECF6",
            "gridcolor": "white",
            "gridwidth": 2,
            "linecolor": "white",
            "showbackground": true,
            "ticks": "",
            "zerolinecolor": "white"
           }
          },
          "shapedefaults": {
           "line": {
            "color": "#2a3f5f"
           }
          },
          "ternary": {
           "aaxis": {
            "gridcolor": "white",
            "linecolor": "white",
            "ticks": ""
           },
           "baxis": {
            "gridcolor": "white",
            "linecolor": "white",
            "ticks": ""
           },
           "bgcolor": "#E5ECF6",
           "caxis": {
            "gridcolor": "white",
            "linecolor": "white",
            "ticks": ""
           }
          },
          "title": {
           "x": 0.05
          },
          "xaxis": {
           "automargin": true,
           "gridcolor": "white",
           "linecolor": "white",
           "ticks": "",
           "title": {
            "standoff": 15
           },
           "zerolinecolor": "white",
           "zerolinewidth": 2
          },
          "yaxis": {
           "automargin": true,
           "gridcolor": "white",
           "linecolor": "white",
           "ticks": "",
           "title": {
            "standoff": 15
           },
           "zerolinecolor": "white",
           "zerolinewidth": 2
          }
         }
        },
        "xaxis": {
         "anchor": "y",
         "autorange": true,
         "domain": [
          0,
          1
         ],
         "range": [
          -0.5,
          206.5
         ],
         "title": {
          "text": "Genre"
         },
         "type": "category"
        },
        "yaxis": {
         "anchor": "x",
         "autorange": true,
         "domain": [
          0,
          1
         ],
         "range": [
          0,
          9.052631578947368
         ],
         "title": {
          "text": "y"
         },
         "type": "linear"
        }
       }
      },
      "image/png": "[encoded data removed]",
      "text/html": [
       "<div>                            <div id=\"16d93c29-e8f6-48e9-be47-0c04bb4b7a67\" class=\"plotly-graph-div\" style=\"height:525px; width:100%;\"></div>            <script type=\"text/javascript\">                require([\"plotly\"], function(Plotly) {                    window.PLOTLYENV=window.PLOTLYENV || {};                                    if (document.getElementById(\"16d93c29-e8f6-48e9-be47-0c04bb4b7a67\")) {                    Plotly.newPlot(                        \"16d93c29-e8f6-48e9-be47-0c04bb4b7a67\",                        [{\"alignmentgroup\":\"True\",\"hovertemplate\":\"Genre=%{x}\\u003cbr\\u003ey=%{y}\\u003cextra\\u003e\\u003c\\u002fextra\\u003e\",\"legendgroup\":\"\",\"marker\":{\"color\":\"#636efa\",\"pattern\":{\"shape\":\"\"}},\"name\":\"\",\"offsetgroup\":\"\",\"orientation\":\"v\",\"showlegend\":false,\"textposition\":\"auto\",\"x\":[\"Action\",\"Action,Adventure\",\"Action,Adventure,Biography\",\"Action,Adventure,Comedy\",\"Action,Adventure,Crime\",\"Action,Adventure,Drama\",\"Action,Adventure,Family\",\"Action,Adventure,Fantasy\",\"Action,Adventure,Horror\",\"Action,Adventure,Mystery\",\"Action,Adventure,Romance\",\"Action,Adventure,Sci-Fi\",\"Action,Adventure,Thriller\",\"Action,Adventure,Western\",\"Action,Biography,Crime\",\"Action,Biography,Drama\",\"Action,Comedy\",\"Action,Comedy,Crime\",\"Action,Comedy,Drama\",\"Action,Comedy,Family\",\"Action,Comedy,Fantasy\",\"Action,Comedy,Horror\",\"Action,Comedy,Mystery\",\"Action,Comedy,Romance\",\"Action,Comedy,Sci-Fi\",\"Action,Comedy,Sport\",\"Action,Crime,Drama\",\"Action,Crime,Fantasy\",\"Action,Crime,Mystery\",\"Action,Crime,Sci-Fi\",\"Action,Crime,Sport\",\"Action,Crime,Thriller\",\"Action,Drama,Family\",\"Action,Drama,Fantasy\",\"Action,Drama,History\",\"Action,Drama,Horror\",\"Action,Drama,Mystery\",\"Action,Drama,Romance\",\"Action,Drama,Sci-Fi\",\"Action,Drama,Sport\",\"Action,Drama,Thriller\",\"Action,Drama,War\",\"Action,Fantasy\",\"Action,Fantasy,Horror\",\"Action,Fantasy,Thriller\",\"Action,Fantasy,War\",\"Action,Horror\",\"Action,Horror,Mystery\",\"Action,Horror,Romance\",\"Action,Horror,Sci-Fi\",\"Action,Horror,Thriller\",\"Action,Mystery,Sci-Fi\",\"Action,Mystery,Thriller\",\"Action,Sci-Fi\",\"Action,Sci-Fi,Thriller\",\"Action,Thriller\",\"Action,Thriller,War\",\"Adventure\",\"Adventure,Biography\",\"Adventure,Biography,Crime\",\"Adventure,Biography,Drama\",\"Adventure,Comedy\",\"Adventure,Comedy,Drama\",\"Adventure,Comedy,Family\",\"Adventure,Comedy,Fantasy\",\"Adventure,Comedy,Horror\",\"Adventure,Comedy,Romance\",\"Adventure,Comedy,Sci-Fi\",\"Adventure,Crime,Mystery\",\"Adventure,Drama\",\"Adventure,Drama,Family\",\"Adventure,Drama,Fantasy\",\"Adventure,Drama,History\",\"Adventure,Drama,Horror\",\"Adventure,Drama,Romance\",\"Adventure,Drama,Sci-Fi\",\"Adventure,Drama,Thriller\",\"Adventure,Drama,War\",\"Adventure,Drama,Western\",\"Adventure,Family\",\"Adventure,Family,Fantasy\",\"Adventure,Fantasy\",\"Adventure,Fantasy,Mystery\",\"Adventure,Horror\",\"Adventure,Horror,Mystery\",\"Adventure,Mystery,Sci-Fi\",\"Adventure,Sci-Fi,Thriller\",\"Animation,Action,Adventure\",\"Animation,Action,Comedy\",\"Animation,Adventure,Comedy\",\"Animation,Adventure,Family\",\"Animation,Comedy,Drama\",\"Animation,Comedy,Family\",\"Animation,Drama,Fantasy\",\"Animation,Drama,Romance\",\"Animation,Family,Fantasy\",\"Animation,Fantasy\",\"Biography,Comedy,Crime\",\"Biography,Comedy,Drama\",\"Biography,Crime,Drama\",\"Biography,Drama\",\"Biography,Drama,Family\",\"Biography,Drama,History\",\"Biography,Drama,Mystery\",\"Biography,Drama,Romance\",\"Biography,Drama,Sport\",\"Biography,Drama,Thriller\",\"Biography,History,Thriller\",\"Comedy\",\"Comedy,Crime\",\"Comedy,Crime,Drama\",\"Comedy,Crime,Thriller\",\"Comedy,Drama\",\"Comedy,Drama,Family\",\"Comedy,Drama,Fantasy\",\"Comedy,Drama,Horror\",\"Comedy,Drama,Music\",\"Comedy,Drama,Musical\",\"Comedy,Drama,Romance\",\"Comedy,Drama,Thriller\",\"Comedy,Family\",\"Comedy,Family,Fantasy\",\"Comedy,Family,Musical\",\"Comedy,Family,Romance\",\"Comedy,Fantasy\",\"Comedy,Fantasy,Horror\",\"Comedy,Fantasy,Romance\",\"Comedy,Horror\",\"Comedy,Horror,Romance\",\"Comedy,Horror,Sci-Fi\",\"Comedy,Horror,Thriller\",\"Comedy,Music\",\"Comedy,Music,Romance\",\"Comedy,Mystery\",\"Comedy,Romance\",\"Comedy,Romance,Sport\",\"Comedy,Romance,Western\",\"Comedy,Sci-Fi\",\"Comedy,Western\",\"Crime,Drama\",\"Crime,Drama,Fantasy\",\"Crime,Drama,History\",\"Crime,Drama,Horror\",\"Crime,Drama,Music\",\"Crime,Drama,Mystery\",\"Crime,Drama,Thriller\",\"Crime,Horror,Thriller\",\"Crime,Mystery,Thriller\",\"Crime,Thriller\",\"Drama\",\"Drama,Family\",\"Drama,Family,Fantasy\",\"Drama,Family,Music\",\"Drama,Fantasy\",\"Drama,Fantasy,Horror\",\"Drama,Fantasy,Music\",\"Drama,Fantasy,Musical\",\"Drama,Fantasy,Mystery\",\"Drama,Fantasy,Romance\",\"Drama,Fantasy,Thriller\",\"Drama,Fantasy,War\",\"Drama,History\",\"Drama,History,Thriller\",\"Drama,History,War\",\"Drama,Horror\",\"Drama,Horror,Musical\",\"Drama,Horror,Mystery\",\"Drama,Horror,Sci-Fi\",\"Drama,Horror,Thriller\",\"Drama,Music\",\"Drama,Music,Romance\",\"Drama,Musical,Romance\",\"Drama,Mystery,Romance\",\"Drama,Mystery,Sci-Fi\",\"Drama,Mystery,Thriller\",\"Drama,Mystery,War\",\"Drama,Romance\",\"Drama,Romance,Sci-Fi\",\"Drama,Romance,Thriller\",\"Drama,Romance,War\",\"Drama,Sci-Fi\",\"Drama,Sci-Fi,Thriller\",\"Drama,Sport\",\"Drama,Thriller\",\"Drama,Thriller,War\",\"Drama,War\",\"Drama,Western\",\"Fantasy,Horror\",\"Fantasy,Horror,Thriller\",\"Fantasy,Mystery,Thriller\",\"Horror\",\"Horror,Mystery\",\"Horror,Mystery,Sci-Fi\",\"Horror,Mystery,Thriller\",\"Horror,Sci-Fi,Thriller\",\"Horror,Thriller\",\"Mystery,Romance,Sci-Fi\",\"Mystery,Romance,Thriller\",\"Mystery,Sci-Fi,Thriller\",\"Mystery,Thriller\",\"Mystery,Thriller,Western\",\"Romance,Sci-Fi\",\"Romance,Sci-Fi,Thriller\",\"Sci-Fi\",\"Sci-Fi,Thriller\",\"Thriller\",\"Thriller,War\"],\"xaxis\":\"x\",\"y\":[6.15,6.3999999999999995,7.0,6.5928571428571425,6.433333333333334,6.544444444444444,5.575,6.32962962962963,6.45,6.659999999999999,5.85,6.724,7.027272727272727,6.7,7.1,7.1125,6.366666666666667,6.825,6.4,5.6,6.133333333333333,6.699999999999999,7.9,6.3,7.0,6.6,6.764705882352941,6.7,6.7,6.2,5.3,6.6000000000000005,6.65,6.166666666666667,6.0,7.5,6.699999999999999,7.1,6.8,7.3999999999999995,6.757142857142857,7.6,6.1,5.833333333333333,5.2,7.7,5.3,6.8,5.8,5.74,5.8,6.533333333333334,7.2,7.3,6.742857142857143,6.577777777777778,7.1,6.1,6.7,7.3,7.5249999999999995,5.85,7.4125,6.25,5.6,7.7,6.15,6.8,6.6,7.3,7.225,6.1499999999999995,7.3,7.1,6.8,8.3,7.566666666666666,8.3,7.6,6.8,6.7,7.733333333333334,6.8,5.300000000000001,6.6,6.85,6.933333333333334,7.2555555555555555,7.3,7.2,8.15,7.8,7.1,8.6,8.4,7.7,7.6,8.2,7.457142857142857,7.066666666666666,7.414285714285714,7.0,7.207142857142857,7.8,7.279999999999999,7.2625,7.733333333333333,7.2,6.03125,6.68,7.028571428571429,6.3,7.114814814814815,6.133333333333333,7.35,6.2,7.040000000000001,5.9,6.651428571428572,8.1,6.3,5.3,6.4,6.0,6.8,6.033333333333334,7.7,5.65,6.9,6.5,5.85,6.6,7.2,6.3,6.1461538461538465,6.4,6.1,6.0,4.8,6.4,7.5,7.9,6.633333333333333,6.5,6.808695652173912,6.858333333333333,6.575,7.6,6.9,6.935416666666666,8.1,7.0,8.5,7.15,6.6000000000000005,6.8,7.4,5.6,6.859999999999999,6.7,8.2,7.0,7.5,7.5,6.58,7.4,7.0249999999999995,6.416666666666667,5.233333333333333,7.8,6.2,7.6,7.383333333333333,7.716666666666666,6.9375,8.2,6.983870967741935,6.975,5.966666666666666,6.9,7.4,6.975,7.0,7.0600000000000005,7.3,6.933333333333334,8.4,6.65,3.2,6.9,5.445454545454545,6.55,5.8,6.477777777777778,5.433333333333334,5.64375,7.5,6.3,7.233333333333333,6.685714285714285,7.1,6.1,7.1,4.95,5.0,5.955555555555556,6.0],\"yaxis\":\"y\",\"type\":\"bar\"}],                        {\"template\":{\"data\":{\"histogram2dcontour\":[{\"type\":\"histogram2dcontour\",\"colorbar\":{\"outlinewidth\":0,\"ticks\":\"\"},\"colorscale\":[[0.0,\"#0d0887\"],[0.1111111111111111,\"#46039f\"],[0.2222222222222222,\"#7201a8\"],[0.3333333333333333,\"#9c179e\"],[0.4444444444444444,\"#bd3786\"],[0.5555555555555556,\"#d8576b\"],[0.6666666666666666,\"#ed7953\"],[0.7777777777777778,\"#fb9f3a\"],[0.8888888888888888,\"#fdca26\"],[1.0,\"#f0f921\"]]}],\"choropleth\":[{\"type\":\"choropleth\",\"colorbar\":{\"outlinewidth\":0,\"ticks\":\"\"}}],\"histogram2d\":[{\"type\":\"histogram2d\",\"colorbar\":{\"outlinewidth\":0,\"ticks\":\"\"},\"colorscale\":[[0.0,\"#0d0887\"],[0.1111111111111111,\"#46039f\"],[0.2222222222222222,\"#7201a8\"],[0.3333333333333333,\"#9c179e\"],[0.4444444444444444,\"#bd3786\"],[0.5555555555555556,\"#d8576b\"],[0.6666666666666666,\"#ed7953\"],[0.7777777777777778,\"#fb9f3a\"],[0.8888888888888888,\"#fdca26\"],[1.0,\"#f0f921\"]]}],\"heatmap\":[{\"type\":\"heatmap\",\"colorbar\":{\"outlinewidth\":0,\"ticks\":\"\"},\"colorscale\":[[0.0,\"#0d0887\"],[0.1111111111111111,\"#46039f\"],[0.2222222222222222,\"#7201a8\"],[0.3333333333333333,\"#9c179e\"],[0.4444444444444444,\"#bd3786\"],[0.5555555555555556,\"#d8576b\"],[0.6666666666666666,\"#ed7953\"],[0.7777777777777778,\"#fb9f3a\"],[0.8888888888888888,\"#fdca26\"],[1.0,\"#f0f921\"]]}],\"heatmapgl\":[{\"type\":\"heatmapgl\",\"colorbar\":{\"outlinewidth\":0,\"ticks\":\"\"},\"colorscale\":[[0.0,\"#0d0887\"],[0.1111111111111111,\"#46039f\"],[0.2222222222222222,\"#7201a8\"],[0.3333333333333333,\"#9c179e\"],[0.4444444444444444,\"#bd3786\"],[0.5555555555555556,\"#d8576b\"],[0.6666666666666666,\"#ed7953\"],[0.7777777777777778,\"#fb9f3a\"],[0.8888888888888888,\"#fdca26\"],[1.0,\"#f0f921\"]]}],\"contourcarpet\":[{\"type\":\"contourcarpet\",\"colorbar\":{\"outlinewidth\":0,\"ticks\":\"\"}}],\"contour\":[{\"type\":\"contour\",\"colorbar\":{\"outlinewidth\":0,\"ticks\":\"\"},\"colorscale\":[[0.0,\"#0d0887\"],[0.1111111111111111,\"#46039f\"],[0.2222222222222222,\"#7201a8\"],[0.3333333333333333,\"#9c179e\"],[0.4444444444444444,\"#bd3786\"],[0.5555555555555556,\"#d8576b\"],[0.6666666666666666,\"#ed7953\"],[0.7777777777777778,\"#fb9f3a\"],[0.8888888888888888,\"#fdca26\"],[1.0,\"#f0f921\"]]}],\"surface\":[{\"type\":\"surface\",\"colorbar\":{\"outlinewidth\":0,\"ticks\":\"\"},\"colorscale\":[[0.0,\"#0d0887\"],[0.1111111111111111,\"#46039f\"],[0.2222222222222222,\"#7201a8\"],[0.3333333333333333,\"#9c179e\"],[0.4444444444444444,\"#bd3786\"],[0.5555555555555556,\"#d8576b\"],[0.6666666666666666,\"#ed7953\"],[0.7777777777777778,\"#fb9f3a\"],[0.8888888888888888,\"#fdca26\"],[1.0,\"#f0f921\"]]}],\"mesh3d\":[{\"type\":\"mesh3d\",\"colorbar\":{\"outlinewidth\":0,\"ticks\":\"\"}}],\"scatter\":[{\"fillpattern\":{\"fillmode\":\"overlay\",\"size\":10,\"solidity\":0.2},\"type\":\"scatter\"}],\"parcoords\":[{\"type\":\"parcoords\",\"line\":{\"colorbar\":{\"outlinewidth\":0,\"ticks\":\"\"}}}],\"scatterpolargl\":[{\"type\":\"scatterpolargl\",\"marker\":{\"colorbar\":{\"outlinewidth\":0,\"ticks\":\"\"}}}],\"bar\":[{\"error_x\":{\"color\":\"#2a3f5f\"},\"error_y\":{\"color\":\"#2a3f5f\"},\"marker\":{\"line\":{\"color\":\"#E5ECF6\",\"width\":0.5},\"pattern\":{\"fillmode\":\"overlay\",\"size\":10,\"solidity\":0.2}},\"type\":\"bar\"}],\"scattergeo\":[{\"type\":\"scattergeo\",\"marker\":{\"colorbar\":{\"outlinewidth\":0,\"ticks\":\"\"}}}],\"scatterpolar\":[{\"type\":\"scatterpolar\",\"marker\":{\"colorbar\":{\"outlinewidth\":0,\"ticks\":\"\"}}}],\"histogram\":[{\"marker\":{\"pattern\":{\"fillmode\":\"overlay\",\"size\":10,\"solidity\":0.2}},\"type\":\"histogram\"}],\"scattergl\":[{\"type\":\"scattergl\",\"marker\":{\"colorbar\":{\"outlinewidth\":0,\"ticks\":\"\"}}}],\"scatter3d\":[{\"type\":\"scatter3d\",\"line\":{\"colorbar\":{\"outlinewidth\":0,\"ticks\":\"\"}},\"marker\":{\"colorbar\":{\"outlinewidth\":0,\"ticks\":\"\"}}}],\"scattermapbox\":[{\"type\":\"scattermapbox\",\"marker\":{\"colorbar\":{\"outlinewidth\":0,\"ticks\":\"\"}}}],\"scatterternary\":[{\"type\":\"scatterternary\",\"marker\":{\"colorbar\":{\"outlinewidth\":0,\"ticks\":\"\"}}}],\"scattercarpet\":[{\"type\":\"scattercarpet\",\"marker\":{\"colorbar\":{\"outlinewidth\":0,\"ticks\":\"\"}}}],\"carpet\":[{\"aaxis\":{\"endlinecolor\":\"#2a3f5f\",\"gridcolor\":\"white\",\"linecolor\":\"white\",\"minorgridcolor\":\"white\",\"startlinecolor\":\"#2a3f5f\"},\"baxis\":{\"endlinecolor\":\"#2a3f5f\",\"gridcolor\":\"white\",\"linecolor\":\"white\",\"minorgridcolor\":\"white\",\"startlinecolor\":\"#2a3f5f\"},\"type\":\"carpet\"}],\"table\":[{\"cells\":{\"fill\":{\"color\":\"#EBF0F8\"},\"line\":{\"color\":\"white\"}},\"header\":{\"fill\":{\"color\":\"#C8D4E3\"},\"line\":{\"color\":\"white\"}},\"type\":\"table\"}],\"barpolar\":[{\"marker\":{\"line\":{\"color\":\"#E5ECF6\",\"width\":0.5},\"pattern\":{\"fillmode\":\"overlay\",\"size\":10,\"solidity\":0.2}},\"type\":\"barpolar\"}],\"pie\":[{\"automargin\":true,\"type\":\"pie\"}]},\"layout\":{\"autotypenumbers\":\"strict\",\"colorway\":[\"#636efa\",\"#EF553B\",\"#00cc96\",\"#ab63fa\",\"#FFA15A\",\"#19d3f3\",\"#FF6692\",\"#B6E880\",\"#FF97FF\",\"#FECB52\"],\"font\":{\"color\":\"#2a3f5f\"},\"hovermode\":\"closest\",\"hoverlabel\":{\"align\":\"left\"},\"paper_bgcolor\":\"white\",\"plot_bgcolor\":\"#E5ECF6\",\"polar\":{\"bgcolor\":\"#E5ECF6\",\"angularaxis\":{\"gridcolor\":\"white\",\"linecolor\":\"white\",\"ticks\":\"\"},\"radialaxis\":{\"gridcolor\":\"white\",\"linecolor\":\"white\",\"ticks\":\"\"}},\"ternary\":{\"bgcolor\":\"#E5ECF6\",\"aaxis\":{\"gridcolor\":\"white\",\"linecolor\":\"white\",\"ticks\":\"\"},\"baxis\":{\"gridcolor\":\"white\",\"linecolor\":\"white\",\"ticks\":\"\"},\"caxis\":{\"gridcolor\":\"white\",\"linecolor\":\"white\",\"ticks\":\"\"}},\"coloraxis\":{\"colorbar\":{\"outlinewidth\":0,\"ticks\":\"\"}},\"colorscale\":{\"sequential\":[[0.0,\"#0d0887\"],[0.1111111111111111,\"#46039f\"],[0.2222222222222222,\"#7201a8\"],[0.3333333333333333,\"#9c179e\"],[0.4444444444444444,\"#bd3786\"],[0.5555555555555556,\"#d8576b\"],[0.6666666666666666,\"#ed7953\"],[0.7777777777777778,\"#fb9f3a\"],[0.8888888888888888,\"#fdca26\"],[1.0,\"#f0f921\"]],\"sequentialminus\":[[0.0,\"#0d0887\"],[0.1111111111111111,\"#46039f\"],[0.2222222222222222,\"#7201a8\"],[0.3333333333333333,\"#9c179e\"],[0.4444444444444444,\"#bd3786\"],[0.5555555555555556,\"#d8576b\"],[0.6666666666666666,\"#ed7953\"],[0.7777777777777778,\"#fb9f3a\"],[0.8888888888888888,\"#fdca26\"],[1.0,\"#f0f921\"]],\"diverging\":[[0,\"#8e0152\"],[0.1,\"#c51b7d\"],[0.2,\"#de77ae\"],[0.3,\"#f1b6da\"],[0.4,\"#fde0ef\"],[0.5,\"#f7f7f7\"],[0.6,\"#e6f5d0\"],[0.7,\"#b8e186\"],[0.8,\"#7fbc41\"],[0.9,\"#4d9221\"],[1,\"#276419\"]]},\"xaxis\":{\"gridcolor\":\"white\",\"linecolor\":\"white\",\"ticks\":\"\",\"title\":{\"standoff\":15},\"zerolinecolor\":\"white\",\"automargin\":true,\"zerolinewidth\":2},\"yaxis\":{\"gridcolor\":\"white\",\"linecolor\":\"white\",\"ticks\":\"\",\"title\":{\"standoff\":15},\"zerolinecolor\":\"white\",\"automargin\":true,\"zerolinewidth\":2},\"scene\":{\"xaxis\":{\"backgroundcolor\":\"#E5ECF6\",\"gridcolor\":\"white\",\"linecolor\":\"white\",\"showbackground\":true,\"ticks\":\"\",\"zerolinecolor\":\"white\",\"gridwidth\":2},\"yaxis\":{\"backgroundcolor\":\"#E5ECF6\",\"gridcolor\":\"white\",\"linecolor\":\"white\",\"showbackground\":true,\"ticks\":\"\",\"zerolinecolor\":\"white\",\"gridwidth\":2},\"zaxis\":{\"backgroundcolor\":\"#E5ECF6\",\"gridcolor\":\"white\",\"linecolor\":\"white\",\"showbackground\":true,\"ticks\":\"\",\"zerolinecolor\":\"white\",\"gridwidth\":2}},\"shapedefaults\":{\"line\":{\"color\":\"#2a3f5f\"}},\"annotationdefaults\":{\"arrowcolor\":\"#2a3f5f\",\"arrowhead\":0,\"arrowwidth\":1},\"geo\":{\"bgcolor\":\"white\",\"landcolor\":\"#E5ECF6\",\"subunitcolor\":\"white\",\"showland\":true,\"showlakes\":true,\"lakecolor\":\"white\"},\"title\":{\"x\":0.05},\"mapbox\":{\"style\":\"light\"}}},\"xaxis\":{\"anchor\":\"y\",\"domain\":[0.0,1.0],\"title\":{\"text\":\"Genre\"}},\"yaxis\":{\"anchor\":\"x\",\"domain\":[0.0,1.0],\"title\":{\"text\":\"y\"}},\"legend\":{\"tracegroupgap\":0},\"margin\":{\"t\":60},\"barmode\":\"relative\"},                        {\"responsive\": true}                    ).then(function(){\n",
       "                            \n",
       "var gd = document.getElementById('16d93c29-e8f6-48e9-be47-0c04bb4b7a67');\n",
       "var x = new MutationObserver(function (mutations, observer) {{\n",
       "        var display = window.getComputedStyle(gd).display;\n",
       "        if (!display || display === 'none') {{\n",
       "            console.log([gd, 'removed!']);\n",
       "            Plotly.purge(gd);\n",
       "            observer.disconnect();\n",
       "        }}\n",
       "}});\n",
       "\n",
       "// Listen for the removal of the full notebook cells\n",
       "var notebookContainer = gd.closest('#notebook-container');\n",
       "if (notebookContainer) {{\n",
       "    x.observe(notebookContainer, {childList: true});\n",
       "}}\n",
       "\n",
       "// Listen for the clearing of the current output cell\n",
       "var outputEl = gd.closest('.output');\n",
       "if (outputEl) {{\n",
       "    x.observe(outputEl, {childList: true});\n",
       "}}\n",
       "\n",
       "                        })                };                });            </script>        </div>"
      ]
     },
     "metadata": {},
     "output_type": "display_data"
    }
   ],
   "source": [
    "fig = plt.bar(res,x = res.index,y = res.values)\n",
    "fig"
   ]
  },
  {
   "cell_type": "code",
   "execution_count": null,
   "id": "0c88355c-cce4-4e67-ab5d-af5c585df56a",
   "metadata": {},
   "outputs": [],
   "source": []
  }
 ],
 "metadata": {
  "kernelspec": {
   "display_name": "Python 3 (ipykernel)",
   "language": "python",
   "name": "python3"
  },
  "language_info": {
   "codemirror_mode": {
    "name": "ipython",
    "version": 3
   },
   "file_extension": ".py",
   "mimetype": "text/x-python",
   "name": "python",
   "nbconvert_exporter": "python",
   "pygments_lexer": "ipython3",
   "version": "3.12.4"
  }
 },
 "nbformat": 4,
 "nbformat_minor": 5
}
