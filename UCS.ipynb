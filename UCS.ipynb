{
 "cells": [
  {
   "cell_type": "code",
   "execution_count": 2,
   "id": "abb8b7ff-2e48-42e9-af53-9c9bdb4d6905",
   "metadata": {},
   "outputs": [],
   "source": [
    "from collections import defaultdict\n",
    "from queue import PriorityQueue"
   ]
  },
  {
   "cell_type": "code",
   "execution_count": 6,
   "id": "0d460664-c50f-470c-ad47-a58551d92e96",
   "metadata": {},
   "outputs": [],
   "source": [
    "class Graph:\n",
    "    def __init__(self,directed):\n",
    "        self.graph = defaultdict(list)\n",
    "        self.directed = directed\n",
    "    \n",
    "    def add_edge(self, u,v,weight):\n",
    "        if self.directed:\n",
    "            value = (weight,v)\n",
    "            self.graph[u].append(value)\n",
    "        else:\n",
    "            value = (v,weight)\n",
    "            self.graph[u].append(value)\n",
    "            value = (u,weight)\n",
    "            self.graph[v].append(value)\n",
    "    \n",
    "    def ucs(self,current_node,goal_node):\n",
    "        visited = []\n",
    "        queue = PriorityQueue()\n",
    "        queue.put((0,current_node))\n",
    "        while not queue.empty():\n",
    "            item = queue.get()\n",
    "            current_node = item[1]\n",
    "            if current_node == goal_node:\n",
    "                print(current_node)\n",
    "                queue.queue.clear()\n",
    "            else:\n",
    "                if current_node in visited:\n",
    "                    continue\n",
    "                print(current_node)\n",
    "                visited.append(current_node)\n",
    "                for neighbour in self.graph[current_node]:\n",
    "                    queue.put((neighbour[0],neighbour[1]))\n",
    "                    "
   ]
  },
  {
   "cell_type": "code",
   "execution_count": 10,
   "id": "19e6f02d-6800-472c-bc89-80f578d7e8a5",
   "metadata": {},
   "outputs": [],
   "source": [
    "g = Graph(True)"
   ]
  },
  {
   "cell_type": "code",
   "execution_count": 12,
   "id": "05061336-ad69-4a99-a24c-0db817e95db0",
   "metadata": {},
   "outputs": [],
   "source": [
    "g.graph = defaultdict(list)"
   ]
  },
  {
   "cell_type": "code",
   "execution_count": 14,
   "id": "f8102eb1-43f7-4aee-a07b-ad753087751b",
   "metadata": {},
   "outputs": [],
   "source": [
    "g.add_edge('S','A',1)\n",
    "g.add_edge('S','G',12)\n",
    "g.add_edge('A','B',3)\n",
    "g.add_edge('A','C',2)\n",
    "g.add_edge('C','D',1)\n",
    "g.add_edge('B','D',3)\n",
    "g.add_edge('C','G',2)\n",
    "g.add_edge('D','G',3)"
   ]
  },
  {
   "cell_type": "code",
   "execution_count": 18,
   "id": "5f4f1674-f1c5-422c-8afa-df9c130b10ac",
   "metadata": {},
   "outputs": [
    {
     "data": {
      "text/plain": [
       "defaultdict(list,\n",
       "            {'S': [(1, 'A'), (12, 'G')],\n",
       "             'A': [(3, 'B'), (2, 'C')],\n",
       "             'C': [(1, 'D'), (2, 'G')],\n",
       "             'B': [(3, 'D')],\n",
       "             'D': [(3, 'G')]})"
      ]
     },
     "execution_count": 18,
     "metadata": {},
     "output_type": "execute_result"
    }
   ],
   "source": [
    "g.graph"
   ]
  },
  {
   "cell_type": "code",
   "execution_count": 20,
   "id": "0b23730c-c505-42ec-bc9c-ac66cf0cdc31",
   "metadata": {},
   "outputs": [
    {
     "name": "stdout",
     "output_type": "stream",
     "text": [
      "S\n",
      "A\n",
      "C\n",
      "D\n",
      "G\n"
     ]
    }
   ],
   "source": [
    "g.ucs('S','G')"
   ]
  },
  {
   "cell_type": "code",
   "execution_count": null,
   "id": "dc0e74c2-8467-4141-9e8d-c5ff7bbdd14b",
   "metadata": {},
   "outputs": [],
   "source": []
  }
 ],
 "metadata": {
  "kernelspec": {
   "display_name": "Python 3 (ipykernel)",
   "language": "python",
   "name": "python3"
  },
  "language_info": {
   "codemirror_mode": {
    "name": "ipython",
    "version": 3
   },
   "file_extension": ".py",
   "mimetype": "text/x-python",
   "name": "python",
   "nbconvert_exporter": "python",
   "pygments_lexer": "ipython3",
   "version": "3.12.4"
  }
 },
 "nbformat": 4,
 "nbformat_minor": 5
}
