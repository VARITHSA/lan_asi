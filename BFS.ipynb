{
 "cells": [
  {
   "cell_type": "code",
   "execution_count": null,
   "id": "8a2ee8b2-c9c7-4af3-97d9-189118096cee",
   "metadata": {},
   "outputs": [],
   "source": [
    "graph ={\n",
    "    '5': ['3','7'],\n",
    "    '3': ['8'],\n",
    "    '7':['2','4'],\n",
    "    '2':[],\n",
    "    '8':[],\n",
    "    '4':[]\n",
    "}"
   ]
  },
  {
   "cell_type": "code",
   "execution_count": null,
   "id": "56fa2294-b5c4-4ea6-bd04-56b850f070b0",
   "metadata": {},
   "outputs": [],
   "source": [
    "visited =[]\n",
    "queue =[]"
   ]
  },
  {
   "cell_type": "code",
   "execution_count": null,
   "id": "3382a728-fb2b-40cf-b515-a76bfbc27e89",
   "metadata": {},
   "outputs": [],
   "source": [
    "def bfs(visted, graph, node):\n",
    "    visited.append(node)\n",
    "    queue.append(node)\n",
    "    while queue:\n",
    "        m = queue.pop(0)\n",
    "        print(m,end =\"->\")\n",
    "        for neighbour in graph[m]:\n",
    "            if neighbour not in visted:\n",
    "                visited.append(neighbour)\n",
    "                queue.append(neighbour)\n",
    "\n"
   ]
  },
  {
   "cell_type": "code",
   "execution_count": null,
   "id": "d4687472-7daf-4c3c-9f26-1595a2b66f20",
   "metadata": {},
   "outputs": [],
   "source": [
    "print(\"BFS result\")\n",
    "bfs(visited,graph,'5')"
   ]
  },
  {
   "cell_type": "code",
   "execution_count": null,
   "id": "9b8bc95e-c264-421f-b83a-a98df279545a",
   "metadata": {},
   "outputs": [],
   "source": []
  }
 ],
 "metadata": {
  "kernelspec": {
   "display_name": "Python 3 (ipykernel)",
   "language": "python",
   "name": "python3"
  },
  "language_info": {
   "codemirror_mode": {
    "name": "ipython",
    "version": 3
   },
   "file_extension": ".py",
   "mimetype": "text/x-python",
   "name": "python",
   "nbconvert_exporter": "python",
   "pygments_lexer": "ipython3",
   "version": "3.12.4"
  }
 },
 "nbformat": 4,
 "nbformat_minor": 5
}
