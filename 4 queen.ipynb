{
 "cells": [
  {
   "cell_type": "code",
   "execution_count": 2,
   "id": "21e0cc57-cb92-46e1-aa73-0924c2836bd6",
   "metadata": {},
   "outputs": [
    {
     "name": "stdout",
     "output_type": "stream",
     "text": [
      "Solution 1:\n",
      ". Q . . \n",
      ". . . Q \n",
      "Q . . . \n",
      ". . Q . \n",
      "\n",
      "Solution 2:\n",
      ". . Q . \n",
      "Q . . . \n",
      ". . . Q \n",
      ". Q . . \n",
      "\n"
     ]
    }
   ],
   "source": [
    "def solve_queens(n):\n",
    "    def is_safe(board, row, col):\n",
    "        for i in range(row):\n",
    "            if board[i] == col or \\\n",
    "                board[i] - i == col - row or \\\n",
    "                board[i] + i == col + row:\n",
    "                return False\n",
    "        return True\n",
    "\n",
    "    def place_queens(n, row, board):\n",
    "        if row == n:\n",
    "            result.append(board[:])\n",
    "            return\n",
    "        for col in range(n):\n",
    "            if is_safe(board, row, col):\n",
    "                board[row] = col\n",
    "                place_queens(n, row + 1, board)\n",
    "\n",
    "    result = []\n",
    "    place_queens(n, 0, [-1]*n)\n",
    "    return result\n",
    "\n",
    "def display_result(result):\n",
    "    for i, board in enumerate(result):\n",
    "        print(f\"Solution {i+1}:\")\n",
    "        for row in range(len(board)):\n",
    "            line = \"\"\n",
    "            for col in range(len(board)):\n",
    "                if board[row] == col:\n",
    "                    line += \"Q \"\n",
    "                else:\n",
    "                    line += \". \"\n",
    "            print(line)\n",
    "        print()\n",
    "\n",
    "n = 4\n",
    "result = solve_queens(n)\n",
    "display_result(result)"
   ]
  },
  {
   "cell_type": "code",
   "execution_count": null,
   "id": "73bc232f-f8d1-45b7-bb33-8b5dff6d6ab0",
   "metadata": {},
   "outputs": [],
   "source": []
  }
 ],
 "metadata": {
  "kernelspec": {
   "display_name": "Python 3 (ipykernel)",
   "language": "python",
   "name": "python3"
  },
  "language_info": {
   "codemirror_mode": {
    "name": "ipython",
    "version": 3
   },
   "file_extension": ".py",
   "mimetype": "text/x-python",
   "name": "python",
   "nbconvert_exporter": "python",
   "pygments_lexer": "ipython3",
   "version": "3.12.4"
  }
 },
 "nbformat": 4,
 "nbformat_minor": 5
}
