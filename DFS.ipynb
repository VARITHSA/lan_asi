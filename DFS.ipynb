{
 "cells": [
  {
   "cell_type": "code",
   "execution_count": 16,
   "id": "d6a2b643-cef4-46a0-b0ae-066096f64a0d",
   "metadata": {},
   "outputs": [],
   "source": [
    "graph ={\n",
    "    '5': ['3','7'],\n",
    "    '3': ['8'],\n",
    "    '7':['2','4'],\n",
    "    '2':[],\n",
    "    '8':[],\n",
    "    '4':[]\n",
    "}"
   ]
  },
  {
   "cell_type": "code",
   "execution_count": 18,
   "id": "cfec68b8-0d59-48e2-a74c-2a6a76270b2e",
   "metadata": {},
   "outputs": [],
   "source": [
    "visited = set()"
   ]
  },
  {
   "cell_type": "code",
   "execution_count": 20,
   "id": "e5ef8db7-cd93-4d52-903e-813dffa7f376",
   "metadata": {},
   "outputs": [],
   "source": [
    "def dfs(visited, graph, root):\n",
    "    if root not in visited:\n",
    "        print(root)\n",
    "        visited.add(root)\n",
    "        for neighbor in graph[root]:\n",
    "            dfs(visited,graph,neighbor)"
   ]
  },
  {
   "cell_type": "code",
   "execution_count": 22,
   "id": "3e627891-aada-46c2-9719-e3dc715e9b16",
   "metadata": {},
   "outputs": [
    {
     "name": "stdout",
     "output_type": "stream",
     "text": [
      "5\n",
      "3\n",
      "8\n",
      "7\n",
      "2\n",
      "4\n"
     ]
    }
   ],
   "source": [
    "dfs(visited, graph, '5')"
   ]
  },
  {
   "cell_type": "code",
   "execution_count": null,
   "id": "9e79c3e9-b98f-4051-9b47-54a7bec60bd9",
   "metadata": {},
   "outputs": [],
   "source": []
  }
 ],
 "metadata": {
  "kernelspec": {
   "display_name": "Python 3 (ipykernel)",
   "language": "python",
   "name": "python3"
  },
  "language_info": {
   "codemirror_mode": {
    "name": "ipython",
    "version": 3
   },
   "file_extension": ".py",
   "mimetype": "text/x-python",
   "name": "python",
   "nbconvert_exporter": "python",
   "pygments_lexer": "ipython3",
   "version": "3.12.4"
  }
 },
 "nbformat": 4,
 "nbformat_minor": 5
}
